{
 "cells": [
  {
   "cell_type": "markdown",
   "metadata": {
    "slideshow": {
     "slide_type": "slide"
    }
   },
   "source": [
    "# Python for economics \n",
    "\n",
    "Brunel University 2022\n",
    "\n",
    "Instructor: Rahat Siddique"
   ]
  },
  {
   "cell_type": "markdown",
   "metadata": {
    "slideshow": {
     "slide_type": "slide"
    }
   },
   "source": [
    "# Question \n",
    "\n",
    "1. What is your experience with python? \n",
    "2. What would you like to gain from this course? "
   ]
  },
  {
   "cell_type": "markdown",
   "metadata": {
    "slideshow": {
     "slide_type": "slide"
    }
   },
   "source": [
    "# Purpose of the week\n",
    "\n",
    "* Develop a fundamental understanding of python\n",
    "* Explore how python can be used to answer important questions in economics\n",
    "* Gain skills to debug and improve python skills independetly  "
   ]
  },
  {
   "cell_type": "markdown",
   "metadata": {
    "slideshow": {
     "slide_type": "slide"
    }
   },
   "source": [
    "# Structure of the course\n",
    "\n",
    "1. Python basics\n",
    "2. Creating a program\n",
    "3. Python with data \n",
    "4. Data cleaning and analysis \n",
    "5. Data visualisations basics\n",
    "6. Mapping data \n",
    "7. Harnessing big data"
   ]
  },
  {
   "cell_type": "code",
   "execution_count": null,
   "metadata": {},
   "outputs": [],
   "source": []
  }
 ],
 "metadata": {
  "celltoolbar": "Slideshow",
  "kernelspec": {
   "display_name": "Python 3",
   "language": "python",
   "name": "python3"
  },
  "language_info": {
   "codemirror_mode": {
    "name": "ipython",
    "version": 3
   },
   "file_extension": ".py",
   "mimetype": "text/x-python",
   "name": "python",
   "nbconvert_exporter": "python",
   "pygments_lexer": "ipython3",
   "version": "3.7.1"
  }
 },
 "nbformat": 4,
 "nbformat_minor": 2
}
